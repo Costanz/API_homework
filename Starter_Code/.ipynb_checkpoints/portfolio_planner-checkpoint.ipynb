{
 "cells": [
  {
   "cell_type": "code",
   "execution_count": 37,
   "metadata": {},
   "outputs": [],
   "source": [
    "import numpy as np\n",
    "import pandas as pd\n",
    "from datetime import datetime, timedelta\n",
    "import matplotlib.pyplot as plt\n",
    "import json\n",
    "import requests\n",
    "import alpaca_trade_api as tradeapi\n",
    "import os\n",
    "from pathlib import Path\n",
    "from dotenv import load_dotenv\n",
    "\n",
    "\n",
    "%matplotlib inline"
   ]
  },
  {
   "cell_type": "code",
   "execution_count": 38,
   "metadata": {},
   "outputs": [],
   "source": [
    "np.random.seed(42)"
   ]
  },
  {
   "cell_type": "markdown",
   "metadata": {},
   "source": [
    "# Portfolio Planner\n",
    "\n",
    "In this activity, you will use the iexfinance api to grab historical data for a 60/40 portfolio using `SPY` to represent the stock portion and `AGG` to represent the bonds."
   ]
  },
  {
   "cell_type": "code",
   "execution_count": 41,
   "metadata": {},
   "outputs": [
    {
     "name": "stdout",
     "output_type": "stream",
     "text": [
      "None\n"
     ]
    }
   ],
   "source": [
    "\n",
    "load_dotenv()\n",
    "\n",
    "#path='Users\\costa\\Desktop\\Byte\\rice\\ru-hou-fin-pt-03-2020-u-c\\hw\\05-APIs\\Instructions\\Starter_Code\\.env'\n",
    "\n",
    "#load_dotenv(dotenv_path=path,verbose=True)\n",
    "\n",
    "APCA_API_KEY_ID = os.getenv(\"APCA_API_KEY_ID\")\n",
    "APCA_SECRET_KEY = os.getenv(\"APCA_SECRET_KEY\")\n",
    "\n",
    "type(APCA_API_KEY_ID)\n",
    "print(APCA_API_KEY_ID)\n",
    "\n",
    "#did not load\n",
    "\n",
    "\n"
   ]
  },
  {
   "cell_type": "markdown",
   "metadata": {},
   "source": [
    "# Data Collection\n",
    "\n",
    "In this step, you will need to use the IEX api to fetch closing prices for the `SPY` and `AGG` tickers. Save the results as a pandas DataFrame"
   ]
  },
  {
   "cell_type": "code",
   "execution_count": 75,
   "metadata": {},
   "outputs": [
    {
     "data": {
      "text/html": [
       "<div>\n",
       "<style scoped>\n",
       "    .dataframe tbody tr th:only-of-type {\n",
       "        vertical-align: middle;\n",
       "    }\n",
       "\n",
       "    .dataframe tbody tr th {\n",
       "        vertical-align: top;\n",
       "    }\n",
       "\n",
       "    .dataframe thead th {\n",
       "        text-align: right;\n",
       "    }\n",
       "</style>\n",
       "<table border=\"1\" class=\"dataframe\">\n",
       "  <thead>\n",
       "    <tr style=\"text-align: right;\">\n",
       "      <th></th>\n",
       "      <th>spy close</th>\n",
       "      <th>agg close</th>\n",
       "      <th>spy_return</th>\n",
       "      <th>agg_return</th>\n",
       "      <th>60-40 returns</th>\n",
       "    </tr>\n",
       "  </thead>\n",
       "  <tbody>\n",
       "    <tr>\n",
       "      <th>2016-04-21</th>\n",
       "      <td>208.96</td>\n",
       "      <td>110.510</td>\n",
       "      <td>NaN</td>\n",
       "      <td>NaN</td>\n",
       "      <td>NaN</td>\n",
       "    </tr>\n",
       "    <tr>\n",
       "      <th>2016-04-22</th>\n",
       "      <td>208.99</td>\n",
       "      <td>110.540</td>\n",
       "      <td>0.000144</td>\n",
       "      <td>0.000271</td>\n",
       "      <td>0.000195</td>\n",
       "    </tr>\n",
       "    <tr>\n",
       "      <th>2016-04-25</th>\n",
       "      <td>208.61</td>\n",
       "      <td>110.390</td>\n",
       "      <td>-0.001818</td>\n",
       "      <td>-0.001357</td>\n",
       "      <td>-0.001634</td>\n",
       "    </tr>\n",
       "    <tr>\n",
       "      <th>2016-04-26</th>\n",
       "      <td>208.97</td>\n",
       "      <td>110.345</td>\n",
       "      <td>0.001726</td>\n",
       "      <td>-0.000408</td>\n",
       "      <td>0.000872</td>\n",
       "    </tr>\n",
       "    <tr>\n",
       "      <th>2016-04-27</th>\n",
       "      <td>209.34</td>\n",
       "      <td>110.650</td>\n",
       "      <td>0.001771</td>\n",
       "      <td>0.002764</td>\n",
       "      <td>0.002168</td>\n",
       "    </tr>\n",
       "  </tbody>\n",
       "</table>\n",
       "</div>"
      ],
      "text/plain": [
       "            spy close  agg close  spy_return  agg_return  60-40 returns\n",
       "2016-04-21     208.96    110.510         NaN         NaN            NaN\n",
       "2016-04-22     208.99    110.540    0.000144    0.000271       0.000195\n",
       "2016-04-25     208.61    110.390   -0.001818   -0.001357      -0.001634\n",
       "2016-04-26     208.97    110.345    0.001726   -0.000408       0.000872\n",
       "2016-04-27     209.34    110.650    0.001771    0.002764       0.002168"
      ]
     },
     "execution_count": 75,
     "metadata": {},
     "output_type": "execute_result"
    }
   ],
   "source": [
    "list_of_tickers = [\"SPY\", \"AGG\"]\n",
    "\n",
    "#Since I could not pull key out of env file, I had to make them variables here\n",
    "\n",
    "APCA_API_KEY_ID ='PK4VGJ0U6ZCKD9BBDD5Z' \n",
    "APCA_SECRET_KEY ='iNQzNiVczS5vWr9KTM9d4xiAGFK1OglhmhynXO2h'\n",
    " \n",
    "\n",
    "api = tradeapi.REST(APCA_API_KEY_ID, APCA_SECRET_KEY, api_version='v2')\n",
    "\n",
    "# Get daily price data for SPY over the last 1000 trading days. Max alpaca would allow.\n",
    "#download direct into dataframe\n",
    "\n",
    "barset = api.get_barset('SPY', 'day', limit=1000).df\n",
    "spy_bars_df = barset['SPY']\n",
    "#spy_bars_df.head()\n",
    "#spy_bars_df.tail()\n",
    "\n",
    "# Get daily price data for AGG over the last 1000 trading days. Max alpaca would allow.\n",
    "\n",
    "barset = api.get_barset('AGG', 'day', limit=1000).df\n",
    "agg_bars_df = barset['AGG']\n",
    "#agg_bars_df.head()\n",
    "#agg_bars_df.tail()\n",
    "\n",
    "\n",
    "#Clean up data, drop extraneous columns\n",
    "\n",
    "spy_bars_df.drop(columns=['open', 'high', 'low', 'volume'], inplace=True)\n",
    "agg_bars_df.drop(columns=['open', 'high', 'low', 'volume'], inplace=True)\n",
    "\n",
    "\n",
    "# Keep date, remove time\n",
    "spy_bars_df.index = spy_bars_df.index.date\n",
    "agg_bars_df.index = agg_bars_df.index.date\n",
    "\n",
    "#spy_bars_df.tail()\n",
    "#agg_bars_df.head()\n",
    "\n",
    "concat_df = pd.concat([spy_bars_df, agg_bars_df], axis = \"columns\", join = \"inner\")\n",
    "\n",
    "concat_df.head()\n",
    "\n",
    "#change column names to avoid confusion\n",
    "columns = ['spy close', 'agg close']\n",
    "concat_df.columns = columns\n",
    "concat_df.head()\n",
    "\n",
    "#add another column to get daily returns of SPY\n",
    "daily_returns_spy = spy_bars_df.pct_change()\n",
    "concat_df['spy_return']= daily_returns_spy \n",
    "\n",
    "\n",
    "#add another column to get daily returns for AGG\n",
    "daily_returns_agg = agg_bars_df.pct_change()\n",
    "concat_df['agg_return']= daily_returns_agg \n",
    "concat_df.head()\n",
    "\n",
    "#add another column to get 60/40 returns\n",
    "concat_df['60-40 returns'] = (concat_df.spy_return * .60)+(concat_df.agg_return * .40)\n",
    "\n",
    "concat_df.head()\n"
   ]
  },
  {
   "cell_type": "markdown",
   "metadata": {},
   "source": [
    "# Monte Carlo Simulation\n",
    "\n",
    "In this step, you will run Monte Carlo Simulations for your portfolio to model portfolio performance at different retirement ages. \n",
    "\n",
    "Complete the following steps:\n",
    "1. Calculate the daily returns for the SPY and AGG closing prices.\n",
    "2. Calculate volatility for both the SPY and AGG closing prices.\n",
    "3. Find the last day's closing price for both stocks and save those as variables.\n",
    "4. Run a Monte Carlo Simulation of at least 500 iterations and generate at least 30 years of closing prices\n",
    "\n",
    "### HINTS:\n",
    "There are 252 trading days per year, so the number of records to generate for each Monte Carlo run will be 252 days * 30 years"
   ]
  },
  {
   "cell_type": "code",
   "execution_count": 86,
   "metadata": {},
   "outputs": [
    {
     "data": {
      "text/html": [
       "<div>\n",
       "<style scoped>\n",
       "    .dataframe tbody tr th:only-of-type {\n",
       "        vertical-align: middle;\n",
       "    }\n",
       "\n",
       "    .dataframe tbody tr th {\n",
       "        vertical-align: top;\n",
       "    }\n",
       "\n",
       "    .dataframe thead th {\n",
       "        text-align: right;\n",
       "    }\n",
       "</style>\n",
       "<table border=\"1\" class=\"dataframe\">\n",
       "  <thead>\n",
       "    <tr style=\"text-align: right;\">\n",
       "      <th></th>\n",
       "      <th>close</th>\n",
       "    </tr>\n",
       "  </thead>\n",
       "  <tbody>\n",
       "    <tr>\n",
       "      <th>2016-04-21</th>\n",
       "      <td>NaN</td>\n",
       "    </tr>\n",
       "    <tr>\n",
       "      <th>2016-04-22</th>\n",
       "      <td>0.000271</td>\n",
       "    </tr>\n",
       "    <tr>\n",
       "      <th>2016-04-25</th>\n",
       "      <td>-0.001357</td>\n",
       "    </tr>\n",
       "    <tr>\n",
       "      <th>2016-04-26</th>\n",
       "      <td>-0.000408</td>\n",
       "    </tr>\n",
       "    <tr>\n",
       "      <th>2016-04-27</th>\n",
       "      <td>0.002764</td>\n",
       "    </tr>\n",
       "  </tbody>\n",
       "</table>\n",
       "</div>"
      ],
      "text/plain": [
       "               close\n",
       "2016-04-21       NaN\n",
       "2016-04-22  0.000271\n",
       "2016-04-25 -0.001357\n",
       "2016-04-26 -0.000408\n",
       "2016-04-27  0.002764"
      ]
     },
     "execution_count": 86,
     "metadata": {},
     "output_type": "execute_result"
    }
   ],
   "source": [
    "# Calculate the daily roi for SPY\n",
    "daily_returns_spy = spy_bars_df.pct_change()\n",
    "daily_returns_spy.head()\n",
    "\n",
    "## Calculate the daily roi for AGG\n",
    "daily_returns_agg = agg_bars_df.pct_change()\n",
    "daily_returns_agg.head()\n"
   ]
  },
  {
   "cell_type": "code",
   "execution_count": 87,
   "metadata": {},
   "outputs": [
    {
     "name": "stdout",
     "output_type": "stream",
     "text": [
      "0.012033630299577065\n",
      "0.003224720275429531\n"
     ]
    }
   ],
   "source": [
    "# Calculate volatility of SPY\n",
    "\n",
    "std_dev_daily_returns_spy = daily_returns_spy.std()['close']\n",
    "print(std_dev_daily_returns_spy)\n",
    "\n",
    "# Calculate volatility of AGG\n",
    "\n",
    "std_dev_daily_returns_agg = daily_returns_agg.std()['close']\n",
    "print(std_dev_daily_returns_agg)"
   ]
  },
  {
   "cell_type": "code",
   "execution_count": 88,
   "metadata": {},
   "outputs": [
    {
     "data": {
      "text/plain": [
       "6.32977223616645e-05"
      ]
     },
     "execution_count": 88,
     "metadata": {},
     "output_type": "execute_result"
    }
   ],
   "source": [
    "# Use the `mean` function to calculate the mean of daily returns for `spy` and `agg`, respectively\n",
    "avg_daily_return_spy = daily_returns_spy.mean()['close']\n",
    "avg_daily_return_agg = daily_returns_agg.mean()['close']\n",
    "avg_daily_return_agg"
   ]
  },
  {
   "cell_type": "code",
   "execution_count": 89,
   "metadata": {},
   "outputs": [
    {
     "name": "stdout",
     "output_type": "stream",
     "text": [
      "278.24\n",
      "117.11\n"
     ]
    }
   ],
   "source": [
    "# Save the last day's closing price\n",
    "last_day_closing_spy = spy_bars_df['close'][-1]\n",
    "last_day_closing_agg = agg_bars_df['close'][-1]\n",
    "\n",
    "print(last_day_closing_spy)\n",
    "print(last_day_closing_agg)"
   ]
  },
  {
   "cell_type": "code",
   "execution_count": 90,
   "metadata": {},
   "outputs": [],
   "source": [
    "# Setup the Monte Carlo Parameters\n",
    "number_simulations = 500\n",
    "number_records = 252 * 30\n",
    "\n",
    "# Initialize empty DataFrame to hold simulated prices for each simulation\n",
    "simulated_price_df = pd.DataFrame()\n",
    "portfolio_cumulative_returns = pd.DataFrame()\n"
   ]
  },
  {
   "cell_type": "code",
   "execution_count": 91,
   "metadata": {},
   "outputs": [
    {
     "data": {
      "text/html": [
       "<div>\n",
       "<style scoped>\n",
       "    .dataframe tbody tr th:only-of-type {\n",
       "        vertical-align: middle;\n",
       "    }\n",
       "\n",
       "    .dataframe tbody tr th {\n",
       "        vertical-align: top;\n",
       "    }\n",
       "\n",
       "    .dataframe thead th {\n",
       "        text-align: right;\n",
       "    }\n",
       "</style>\n",
       "<table border=\"1\" class=\"dataframe\">\n",
       "  <thead>\n",
       "    <tr style=\"text-align: right;\">\n",
       "      <th></th>\n",
       "      <th>0</th>\n",
       "      <th>1</th>\n",
       "      <th>2</th>\n",
       "      <th>3</th>\n",
       "      <th>4</th>\n",
       "      <th>5</th>\n",
       "      <th>6</th>\n",
       "      <th>7</th>\n",
       "      <th>8</th>\n",
       "      <th>9</th>\n",
       "      <th>...</th>\n",
       "      <th>490</th>\n",
       "      <th>491</th>\n",
       "      <th>492</th>\n",
       "      <th>493</th>\n",
       "      <th>494</th>\n",
       "      <th>495</th>\n",
       "      <th>496</th>\n",
       "      <th>497</th>\n",
       "      <th>498</th>\n",
       "      <th>499</th>\n",
       "    </tr>\n",
       "  </thead>\n",
       "  <tbody>\n",
       "    <tr>\n",
       "      <th>0</th>\n",
       "      <td>1.000000</td>\n",
       "      <td>1.000000</td>\n",
       "      <td>1.000000</td>\n",
       "      <td>1.000000</td>\n",
       "      <td>1.000000</td>\n",
       "      <td>1.000000</td>\n",
       "      <td>1.000000</td>\n",
       "      <td>1.000000</td>\n",
       "      <td>1.000000</td>\n",
       "      <td>1.000000</td>\n",
       "      <td>...</td>\n",
       "      <td>1.000000</td>\n",
       "      <td>1.000000</td>\n",
       "      <td>1.000000</td>\n",
       "      <td>1.000000</td>\n",
       "      <td>1.000000</td>\n",
       "      <td>1.000000</td>\n",
       "      <td>1.000000</td>\n",
       "      <td>1.000000</td>\n",
       "      <td>1.000000</td>\n",
       "      <td>1.000000</td>\n",
       "    </tr>\n",
       "    <tr>\n",
       "      <th>1</th>\n",
       "      <td>0.993627</td>\n",
       "      <td>0.999113</td>\n",
       "      <td>1.005244</td>\n",
       "      <td>0.995334</td>\n",
       "      <td>0.998033</td>\n",
       "      <td>1.008541</td>\n",
       "      <td>1.010134</td>\n",
       "      <td>1.010636</td>\n",
       "      <td>0.996342</td>\n",
       "      <td>0.996128</td>\n",
       "      <td>...</td>\n",
       "      <td>1.008573</td>\n",
       "      <td>0.995470</td>\n",
       "      <td>0.994181</td>\n",
       "      <td>1.001588</td>\n",
       "      <td>1.019898</td>\n",
       "      <td>1.002389</td>\n",
       "      <td>0.994930</td>\n",
       "      <td>0.995158</td>\n",
       "      <td>0.996305</td>\n",
       "      <td>0.998326</td>\n",
       "    </tr>\n",
       "    <tr>\n",
       "      <th>2</th>\n",
       "      <td>0.990002</td>\n",
       "      <td>0.995823</td>\n",
       "      <td>1.016369</td>\n",
       "      <td>0.994729</td>\n",
       "      <td>0.992747</td>\n",
       "      <td>1.009860</td>\n",
       "      <td>1.027741</td>\n",
       "      <td>1.010309</td>\n",
       "      <td>0.987780</td>\n",
       "      <td>0.992667</td>\n",
       "      <td>...</td>\n",
       "      <td>1.018602</td>\n",
       "      <td>0.988096</td>\n",
       "      <td>1.001176</td>\n",
       "      <td>1.000144</td>\n",
       "      <td>1.021231</td>\n",
       "      <td>1.008133</td>\n",
       "      <td>1.003394</td>\n",
       "      <td>0.997399</td>\n",
       "      <td>0.995977</td>\n",
       "      <td>0.991381</td>\n",
       "    </tr>\n",
       "    <tr>\n",
       "      <th>3</th>\n",
       "      <td>0.988407</td>\n",
       "      <td>0.992404</td>\n",
       "      <td>1.015996</td>\n",
       "      <td>0.999137</td>\n",
       "      <td>0.998133</td>\n",
       "      <td>1.006802</td>\n",
       "      <td>1.037420</td>\n",
       "      <td>1.011270</td>\n",
       "      <td>0.984348</td>\n",
       "      <td>0.987776</td>\n",
       "      <td>...</td>\n",
       "      <td>1.025865</td>\n",
       "      <td>0.984806</td>\n",
       "      <td>0.991892</td>\n",
       "      <td>1.012116</td>\n",
       "      <td>1.026077</td>\n",
       "      <td>1.004588</td>\n",
       "      <td>1.008869</td>\n",
       "      <td>0.998507</td>\n",
       "      <td>0.997116</td>\n",
       "      <td>0.991622</td>\n",
       "    </tr>\n",
       "    <tr>\n",
       "      <th>4</th>\n",
       "      <td>0.996050</td>\n",
       "      <td>1.001655</td>\n",
       "      <td>1.015478</td>\n",
       "      <td>1.009882</td>\n",
       "      <td>0.998752</td>\n",
       "      <td>1.011751</td>\n",
       "      <td>1.040588</td>\n",
       "      <td>1.008305</td>\n",
       "      <td>0.989431</td>\n",
       "      <td>0.999553</td>\n",
       "      <td>...</td>\n",
       "      <td>1.025637</td>\n",
       "      <td>0.980009</td>\n",
       "      <td>0.991007</td>\n",
       "      <td>1.010309</td>\n",
       "      <td>1.026647</td>\n",
       "      <td>1.000007</td>\n",
       "      <td>0.995771</td>\n",
       "      <td>0.993787</td>\n",
       "      <td>1.007356</td>\n",
       "      <td>0.989891</td>\n",
       "    </tr>\n",
       "  </tbody>\n",
       "</table>\n",
       "<p>5 rows × 500 columns</p>\n",
       "</div>"
      ],
      "text/plain": [
       "        0         1         2         3         4         5         6    \\\n",
       "0  1.000000  1.000000  1.000000  1.000000  1.000000  1.000000  1.000000   \n",
       "1  0.993627  0.999113  1.005244  0.995334  0.998033  1.008541  1.010134   \n",
       "2  0.990002  0.995823  1.016369  0.994729  0.992747  1.009860  1.027741   \n",
       "3  0.988407  0.992404  1.015996  0.999137  0.998133  1.006802  1.037420   \n",
       "4  0.996050  1.001655  1.015478  1.009882  0.998752  1.011751  1.040588   \n",
       "\n",
       "        7         8         9    ...       490       491       492       493  \\\n",
       "0  1.000000  1.000000  1.000000  ...  1.000000  1.000000  1.000000  1.000000   \n",
       "1  1.010636  0.996342  0.996128  ...  1.008573  0.995470  0.994181  1.001588   \n",
       "2  1.010309  0.987780  0.992667  ...  1.018602  0.988096  1.001176  1.000144   \n",
       "3  1.011270  0.984348  0.987776  ...  1.025865  0.984806  0.991892  1.012116   \n",
       "4  1.008305  0.989431  0.999553  ...  1.025637  0.980009  0.991007  1.010309   \n",
       "\n",
       "        494       495       496       497       498       499  \n",
       "0  1.000000  1.000000  1.000000  1.000000  1.000000  1.000000  \n",
       "1  1.019898  1.002389  0.994930  0.995158  0.996305  0.998326  \n",
       "2  1.021231  1.008133  1.003394  0.997399  0.995977  0.991381  \n",
       "3  1.026077  1.004588  1.008869  0.998507  0.997116  0.991622  \n",
       "4  1.026647  1.000007  0.995771  0.993787  1.007356  0.989891  \n",
       "\n",
       "[5 rows x 500 columns]"
      ]
     },
     "execution_count": 91,
     "metadata": {},
     "output_type": "execute_result"
    }
   ],
   "source": [
    "# Run the Monte Carlo Simulation 500 times\n",
    "for x in range(number_simulations):\n",
    "\n",
    "    # Initialize the simulated prices list with the last closing price of `SPY` and `AGG`\n",
    "    simulated_spy_prices = [last_day_closing_spy]\n",
    "    simulated_agg_prices = [last_day_closing_agg]\n",
    "    \n",
    "    # Simulate the returns for 30 years\n",
    "    for i in range(number_records):\n",
    "        \n",
    "        # Calculate the simulated price using the last price within the list\n",
    "        simulated_spy_price = simulated_spy_prices[-1] * (1 + np.random.normal(avg_daily_return_spy, std_dev_daily_returns_spy))\n",
    "        simulated_agg_price = simulated_agg_prices[-1] * (1 + np.random.normal(avg_daily_return_agg, std_dev_daily_returns_agg))\n",
    "        \n",
    "        # Append the simulated price to the list\n",
    "        simulated_spy_prices.append(simulated_spy_price)\n",
    "        simulated_agg_prices.append(simulated_agg_price)\n",
    "    \n",
    "    # Append simulated prices of each simulation to DataFrame\n",
    "    simulated_price_df[\"SPY prices\"] = pd.Series(simulated_spy_prices)\n",
    "    simulated_price_df[\"AGG prices\"] = pd.Series(simulated_agg_prices)\n",
    "    \n",
    "    # Calculate the daily returns of simulated prices\n",
    "    simulated_daily_returns = simulated_price_df.pct_change()\n",
    "    \n",
    "    # Set the portfolio weights (60% SPY; 40% SPY)\n",
    "    weights = [0.60, 0.40]\n",
    "\n",
    "    # Use the `dot` function with the weights to multiply weights with each column's simulated daily returns\n",
    "    portfolio_daily_returns = simulated_daily_returns.dot(weights)\n",
    "    \n",
    "    # Calculate the normalized, cumulative return series\n",
    "    portfolio_cumulative_returns[x] = (1 + portfolio_daily_returns.fillna(0)).cumprod()\n",
    "\n",
    "# Print records from the DataFrame\n",
    "portfolio_cumulative_returns.head()"
   ]
  },
  {
   "cell_type": "code",
   "execution_count": 94,
   "metadata": {},
   "outputs": [
    {
     "data": {
      "text/plain": [
       "<matplotlib.axes._subplots.AxesSubplot at 0x1d68169e248>"
      ]
     },
     "execution_count": 94,
     "metadata": {},
     "output_type": "execute_result"
    },
    {
     "data": {
      "image/png": "[encoded data removed]",
      "text/plain": [
       "<Figure size 432x288 with 1 Axes>"
      ]
     },
     "metadata": {
      "needs_background": "light"
     },
     "output_type": "display_data"
    }
   ],
   "source": [
    "# Visualize the Simulation\n",
    "# Use the `plot` function to plot `500` simulations of the potential trajectories of the portfolio based on 30 years\n",
    "plot_title = f\"{x+1} Simulations of Cumulative Portfolio Return Over the Next 30  years using a 60/40 SPY/AGG allocation\"\n",
    "portfolio_cumulative_returns.plot(legend=None, title=plot_title)"
   ]
  },
  {
   "cell_type": "code",
   "execution_count": 95,
   "metadata": {},
   "outputs": [
    {
     "data": {
      "text/plain": [
       "0     8.953317\n",
       "1     8.114615\n",
       "2     6.077282\n",
       "3     4.999049\n",
       "4    10.120049\n",
       "Name: 7560, dtype: float64"
      ]
     },
     "execution_count": 95,
     "metadata": {},
     "output_type": "execute_result"
    }
   ],
   "source": [
    "# Select the last row for the cumulative returns (cumulative returns at 30 years)\n",
    " \n",
    "ending_cumulative_returns = portfolio_cumulative_returns.iloc[-1, :]\n",
    "ending_cumulative_returns.head()"
   ]
  },
  {
   "cell_type": "code",
   "execution_count": 96,
   "metadata": {},
   "outputs": [
    {
     "data": {
      "text/plain": [
       "0    8.629977\n",
       "1    3.623425\n",
       "2    2.864994\n",
       "3    5.764251\n",
       "4    4.341965\n",
       "Name: 5041, dtype: float64"
      ]
     },
     "execution_count": 96,
     "metadata": {},
     "output_type": "execute_result"
    }
   ],
   "source": [
    "# Select the last row for the cumulative returns (cumulative returns at 20 years)\n",
    "ending_cumulative_returns = portfolio_cumulative_returns.iloc[-2520, :]\n",
    "ending_cumulative_returns.head()"
   ]
  },
  {
   "cell_type": "code",
   "execution_count": 97,
   "metadata": {},
   "outputs": [
    {
     "data": {
      "text/plain": [
       "0.05    1.279978\n",
       "0.95    6.682616\n",
       "Name: 5041, dtype: float64"
      ]
     },
     "execution_count": 97,
     "metadata": {},
     "output_type": "execute_result"
    }
   ],
   "source": [
    "# Display the 90% confidence interval for the ending returns\n",
    "\n",
    "confidence_interval = ending_cumulative_returns.quantile(q=[0.05, 0.95])\n",
    "confidence_interval"
   ]
  },
  {
   "cell_type": "code",
   "execution_count": 98,
   "metadata": {},
   "outputs": [
    {
     "data": {
      "text/plain": [
       "<matplotlib.axes._subplots.AxesSubplot at 0x1d683d0de08>"
      ]
     },
     "execution_count": 98,
     "metadata": {},
     "output_type": "execute_result"
    },
    {
     "data": {
      "image/png": "[encoded data removed]",
      "text/plain": [
       "<Figure size 432x288 with 1 Axes>"
      ]
     },
     "metadata": {
      "needs_background": "light"
     },
     "output_type": "display_data"
    }
   ],
   "source": [
    "#Visualize the distribution of the ending returns\n",
    "\n",
    "ending_cumulative_returns.plot(kind='hist', bins=10)"
   ]
  },
  {
   "cell_type": "code",
   "execution_count": 99,
   "metadata": {},
   "outputs": [
    {
     "data": {
      "text/plain": [
       "(1.47, 2.534]     0.304\n",
       "(2.534, 3.598]    0.248\n",
       "(3.598, 4.663]    0.170\n",
       "(4.663, 5.727]    0.108\n",
       "(0.393, 1.47]     0.072\n",
       "(5.727, 6.792]    0.050\n",
       "(6.792, 7.856]    0.018\n",
       "(7.856, 8.921]    0.014\n",
       "(8.921, 9.985]    0.010\n",
       "(9.985, 11.05]    0.006\n",
       "Name: 5041, dtype: float64"
      ]
     },
     "execution_count": 99,
     "metadata": {},
     "output_type": "execute_result"
    }
   ],
   "source": [
    "ending_cumulative_returns.value_counts(bins=10) / len(ending_cumulative_returns)"
   ]
  },
  {
   "cell_type": "code",
   "execution_count": 116,
   "metadata": {},
   "outputs": [
    {
     "name": "stdout",
     "output_type": "stream",
     "text": [
      "6.682615520494301\n",
      "1.2799776839775643\n"
     ]
    },
    {
     "data": {
      "image/png": "[encoded data removed]",
      "text/plain": [
       "<Figure size 432x288 with 1 Axes>"
      ]
     },
     "metadata": {
      "needs_background": "light"
     },
     "output_type": "display_data"
    }
   ],
   "source": [
    "# Use the `plot` function to create a probability distribution histogram of simulated ending prices\n",
    "# with markings for a 90% confidence interval\n",
    "plt.figure();\n",
    "ending_cumulative_returns.plot(kind='hist', density=True, bins=10)\n",
    "plt.axvline(confidence_interval.iloc[0], color='r')\n",
    "plt.axvline(confidence_interval.iloc[1], color='r')\n",
    "print(confidence_interval.iloc[1])\n",
    "print(confidence_interval.iloc[0])"
   ]
  },
  {
   "cell_type": "markdown",
   "metadata": {},
   "source": [
    "---"
   ]
  },
  {
   "cell_type": "markdown",
   "metadata": {},
   "source": [
    "# Retirement Analysis\n",
    "\n",
    "In this section, you will use the monte carlo model to answer the following retirement planning questions:\n",
    "\n",
    "1. What are the expected cumulative returns at 30 years for the 10th, 50th, and 90th percentiles?\n",
    "2. Given an initial investment of `$20,000`, what is the expected portfolio return in dollars at the 10th, 50th, and 90th percentiles?\n",
    "3. Given the current projected annual income from the Plaid analysis, will a 4% withdraw rate from the retirement portfolio meet or exceed that value at the 10th percentile?\n",
    "4. How would a 50% increase in the initial investment amount affect the 4% retirement withdrawal?"
   ]
  },
  {
   "cell_type": "markdown",
   "metadata": {},
   "source": [
    "### What are the expected cumulative returns at 30 years for the 10th, 50th, and 90th percentiles?"
   ]
  },
  {
   "cell_type": "code",
   "execution_count": 101,
   "metadata": {},
   "outputs": [
    {
     "name": "stdout",
     "output_type": "stream",
     "text": [
      "0.45    2.849741\n",
      "0.55    3.212413\n",
      "Name: 5041, dtype: float64\n",
      "0.25    2.144470\n",
      "0.75    4.339769\n",
      "Name: 5041, dtype: float64\n",
      "0.05    1.279978\n",
      "0.95    6.682616\n",
      "Name: 5041, dtype: float64\n"
     ]
    }
   ],
   "source": [
    "\n",
    "\n",
    "# Display the 10% confidence interval for the ending returns\n",
    "\n",
    "confidence_interval_10 = ending_cumulative_returns.quantile(q=[0.45, 0.55])\n",
    "print(confidence_interval_10)\n",
    "\n",
    "# Display the 50% confidence interval for the ending returns\n",
    "\n",
    "confidence_interval_50 = ending_cumulative_returns.quantile(q=[0.25, 0.75])\n",
    "print(confidence_interval_50)\n",
    "\n",
    "# Display the 90% confidence interval for the ending returns\n",
    "\n",
    "confidence_interval_90 = ending_cumulative_returns.quantile(q=[0.05, 0.95])\n",
    "print(confidence_interval_90)\n",
    "\n"
   ]
  },
  {
   "cell_type": "markdown",
   "metadata": {},
   "source": [
    "### Given an initial investment of `$20,000`, what is the expected portfolio return in dollars at the 10th, 50th, and 90th percentiles?"
   ]
  },
  {
   "cell_type": "code",
   "execution_count": 106,
   "metadata": {},
   "outputs": [
    {
     "name": "stdout",
     "output_type": "stream",
     "text": [
      "There is a 10% chance that an initial investment of $20,000 in the portfolio over the next 30 years will end within in the range of $76994.82050097422 and $84248.25071134341\n",
      "\n",
      "There is a 50% chance that an initial investment of $20,000 in the portfolio over the next 30 years will end within in the range of $62889.391010638 and $106795.38935282438\n",
      "\n",
      "There is a 90% chance that an initial investment of $20,000 in the portfolio over the next 30 years will end within in the range of $45599.55367955129 and $153652.31040988603\n"
     ]
    }
   ],
   "source": [
    "\n",
    "# Set initial investment for 10% confidence interval\n",
    "\n",
    "initial_investment = 20000\n",
    "\n",
    "# Calculate investment profit/loss of lower and upper bound cumulative portfolio returns\n",
    "investment_pnl_lower_bound = initial_investment + (initial_investment * confidence_interval_10.iloc[0])\n",
    "investment_pnl_upper_bound = initial_investment + (initial_investment * confidence_interval_10.iloc[1])\n",
    "                                                    \n",
    "# Print the results\n",
    "print(f\"There is a 10% chance that an initial investment of $20,000 in the portfolio\"\n",
    "      f\" over the next 30 years will end within in the range of\"\n",
    "      f\" ${investment_pnl_lower_bound} and ${investment_pnl_upper_bound}\")\n",
    "\n",
    "\n",
    "\n",
    "# Set initial investment for 50% confidence interval\n",
    "\n",
    "initial_investment = 20000\n",
    "\n",
    "# Calculate investment profit/loss of lower and upper bound cumulative portfolio returns\n",
    "investment_pnl_lower_bound = initial_investment + (initial_investment * confidence_interval_50.iloc[0])\n",
    "investment_pnl_upper_bound = initial_investment + (initial_investment * confidence_interval_50.iloc[1])\n",
    "                                                    \n",
    "# Print the results\n",
    "print()\n",
    "print(f\"There is a 50% chance that an initial investment of $20,000 in the portfolio\"\n",
    "      f\" over the next 30 years will end within in the range of\"\n",
    "      f\" ${investment_pnl_lower_bound} and ${investment_pnl_upper_bound}\")\n",
    "\n",
    "\n",
    "# Set initial investment for 90% confidence interval\n",
    "\n",
    "initial_investment = 20000\n",
    "\n",
    "# Calculate investment profit/loss of lower and upper bound cumulative portfolio returns\n",
    "investment_pnl_lower_bound = initial_investment + (initial_investment * confidence_interval_90.iloc[0])\n",
    "investment_pnl_upper_bound = initial_investment + (initial_investment * confidence_interval_90.iloc[1])\n",
    "                                                    \n",
    "# Print the results\n",
    "print()\n",
    "print(f\"There is a 90% chance that an initial investment of $20,000 in the portfolio\"\n",
    "      f\" over the next 30 years will end within in the range of\"\n",
    "      f\" ${investment_pnl_lower_bound} and ${investment_pnl_upper_bound}\")"
   ]
  },
  {
   "cell_type": "markdown",
   "metadata": {},
   "source": [
    "### Given the current projected annual income from the Plaid analysis, will a 4% withdraw rate from the retirement portfolio meet or exceed that value at the 10th percentile?\n",
    "\n",
    "Note: This is effectively saying that 90% of the expected returns will be greater than the return at the 10th percentile, so this can help measure the uncertainty about having enough funds at retirement"
   ]
  },
  {
   "cell_type": "code",
   "execution_count": 109,
   "metadata": {},
   "outputs": [
    {
     "name": "stdout",
     "output_type": "stream",
     "text": [
      "Oops! Tighten your belt, there's a 10% chance you will not be able to replace your income at retirement.\n",
      "6085\n",
      "3079.792820038969\n"
     ]
    }
   ],
   "source": [
    "\n",
    "projected_annual_income = 6085\n",
    "investment_pnl_lower_bound = initial_investment + (initial_investment * confidence_interval_10.iloc[0])\n",
    "withdrawal_rate = .04\n",
    "\n",
    "if (investment_pnl_lower_bound * withdrawal_rate)>= projected_annual_income:\n",
    "    print(\"Great! You will have enough funds at retirement to replace your income at retirement.\")\n",
    "else:\n",
    "    print(\"Oops! Tighten your belt, there's a chance you will not be able to replace your income at retirement.\")\n",
    "\n",
    "print(projected_annual_income)\n",
    "print(investment_pnl_lower_bound * withdrawal_rate)\n"
   ]
  },
  {
   "cell_type": "markdown",
   "metadata": {},
   "source": [
    "### How would a 50% increase in the initial investment amount affect the 4% retirement withdrawal?"
   ]
  },
  {
   "cell_type": "code",
   "execution_count": 113,
   "metadata": {},
   "outputs": [
    {
     "name": "stdout",
     "output_type": "stream",
     "text": [
      "There is a 10% chance that an initial investment of $30,000 in the portfolio over the next 30 years will end within in the range of $115492.23075146135 and $126372.37606701512\n",
      "\n",
      "Oops! Tighten your belt, there's a chance you will not be able to replace your income at retirement.\n",
      "6085\n",
      "4619.689230058454\n"
     ]
    }
   ],
   "source": [
    "# Set initial investment for 10% confidence interval\n",
    "\n",
    "initial_investment = 30000\n",
    "\n",
    "# Calculate investment profit/loss of lower and upper bound cumulative portfolio returns\n",
    "investment_pnl_lower_bound = initial_investment + (initial_investment * confidence_interval_10.iloc[0])\n",
    "investment_pnl_upper_bound = initial_investment + (initial_investment * confidence_interval_10.iloc[1])\n",
    "                                                    \n",
    "# Print the results\n",
    "print(f\"There is a 10% chance that an initial investment of $30,000 in the portfolio\"\n",
    "      f\" over the next 30 years will end within in the range of\"\n",
    "      f\" ${investment_pnl_lower_bound} and ${investment_pnl_upper_bound}\")\n",
    "\n",
    "projected_annual_income = 6085\n",
    "investment_pnl_lower_bound = initial_investment + (initial_investment * confidence_interval_10.iloc[0])\n",
    "withdrawal_rate = .04\n",
    "print()\n",
    "\n",
    "if (investment_pnl_lower_bound * withdrawal_rate)>= projected_annual_income:\n",
    "    print(\"Great! You will have enough funds at retirement to replace your income at retirement.\")\n",
    "else:\n",
    "    print(\"Oops! Tighten your belt, there's a chance you will not be able to replace your income at retirement.\")\n",
    "\n",
    "print(projected_annual_income)\n",
    "print(investment_pnl_lower_bound * withdrawal_rate)\n"
   ]
  },
  {
   "cell_type": "markdown",
   "metadata": {},
   "source": [
    "### Optional Challenge\n",
    "\n",
    "In this section, you will calculate and plot the cumulative returns for the median and 90% confidence intervals. This plot shows the expected cumulative returns for any given day between the first day and the last day of investment. "
   ]
  },
  {
   "cell_type": "code",
   "execution_count": null,
   "metadata": {},
   "outputs": [],
   "source": [
    "# "
   ]
  }
 ],
 "metadata": {
  "kernel_info": {
   "name": "dev"
  },
  "kernelspec": {
   "display_name": "Python 3",
   "language": "python",
   "name": "python3"
  },
  "language_info": {
   "codemirror_mode": {
    "name": "ipython",
    "version": 3
   },
   "file_extension": ".py",
   "mimetype": "text/x-python",
   "name": "python",
   "nbconvert_exporter": "python",
   "pygments_lexer": "ipython3",
   "version": "3.7.6"
  },
  "nteract": {
   "version": "0.12.3"
  }
 },
 "nbformat": 4,
 "nbformat_minor": 4
}
